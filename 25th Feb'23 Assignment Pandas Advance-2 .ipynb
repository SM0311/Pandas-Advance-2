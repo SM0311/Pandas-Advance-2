{
 "cells": [
  {
   "cell_type": "code",
   "execution_count": 1,
   "id": "5aa9cde4-4004-4100-b87a-b0e9aed1d607",
   "metadata": {},
   "outputs": [],
   "source": [
    "import pandas as pd\n",
    "course_name = ['Data Science', 'Machine Learning', 'Big Data', 'Data Engineer']\n",
    "duration = [2,3,6,4]\n",
    "df = pd.DataFrame(data = {'course_name' : course_name, 'duration' : duration})"
   ]
  },
  {
   "cell_type": "code",
   "execution_count": 2,
   "id": "061b1243-b96c-43cf-8ae4-5e21beca3edb",
   "metadata": {},
   "outputs": [
    {
     "data": {
      "text/html": [
       "<div>\n",
       "<style scoped>\n",
       "    .dataframe tbody tr th:only-of-type {\n",
       "        vertical-align: middle;\n",
       "    }\n",
       "\n",
       "    .dataframe tbody tr th {\n",
       "        vertical-align: top;\n",
       "    }\n",
       "\n",
       "    .dataframe thead th {\n",
       "        text-align: right;\n",
       "    }\n",
       "</style>\n",
       "<table border=\"1\" class=\"dataframe\">\n",
       "  <thead>\n",
       "    <tr style=\"text-align: right;\">\n",
       "      <th></th>\n",
       "      <th>course_name</th>\n",
       "      <th>duration</th>\n",
       "    </tr>\n",
       "  </thead>\n",
       "  <tbody>\n",
       "    <tr>\n",
       "      <th>0</th>\n",
       "      <td>Data Science</td>\n",
       "      <td>2</td>\n",
       "    </tr>\n",
       "    <tr>\n",
       "      <th>1</th>\n",
       "      <td>Machine Learning</td>\n",
       "      <td>3</td>\n",
       "    </tr>\n",
       "    <tr>\n",
       "      <th>2</th>\n",
       "      <td>Big Data</td>\n",
       "      <td>6</td>\n",
       "    </tr>\n",
       "    <tr>\n",
       "      <th>3</th>\n",
       "      <td>Data Engineer</td>\n",
       "      <td>4</td>\n",
       "    </tr>\n",
       "  </tbody>\n",
       "</table>\n",
       "</div>"
      ],
      "text/plain": [
       "        course_name  duration\n",
       "0      Data Science         2\n",
       "1  Machine Learning         3\n",
       "2          Big Data         6\n",
       "3     Data Engineer         4"
      ]
     },
     "execution_count": 2,
     "metadata": {},
     "output_type": "execute_result"
    }
   ],
   "source": [
    "df"
   ]
  },
  {
   "cell_type": "code",
   "execution_count": 3,
   "id": "aa58c215-fd78-40d0-bd4f-01667205bb9d",
   "metadata": {},
   "outputs": [
    {
     "data": {
      "text/plain": [
       "course_name    Machine Learning\n",
       "duration                      3\n",
       "Name: 1, dtype: object"
      ]
     },
     "execution_count": 3,
     "metadata": {},
     "output_type": "execute_result"
    }
   ],
   "source": [
    "df.iloc[1]"
   ]
  },
  {
   "cell_type": "markdown",
   "id": "6040b431-8970-4d8a-90c2-370505fe6a98",
   "metadata": {},
   "source": [
    "Q2. What is the difference between the functions loc and iloc in pandas.DataFrame?"
   ]
  },
  {
   "cell_type": "markdown",
   "id": "203bfd1f-4c8e-4361-82cf-224e4572f978",
   "metadata": {},
   "source": [
    "Answer 2. Both loc and iloc are used to access and subset data from a Pandas DataFrame, but they differ in how they treat the indexing and slicing of the DataFrame.\n",
    "\n",
    "loc is a label-based indexer that allows you to select data based on the labels of the rows and columns. loc can be used to subset a DataFrame by specifying the row and column labels explicity.\n",
    "\n",
    "For Example - "
   ]
  },
  {
   "cell_type": "code",
   "execution_count": 4,
   "id": "8c043ef7-1f0f-443f-acce-04b82590188a",
   "metadata": {},
   "outputs": [
    {
     "data": {
      "text/plain": [
       "6"
      ]
     },
     "execution_count": 4,
     "metadata": {},
     "output_type": "execute_result"
    }
   ],
   "source": [
    "df.loc[2,'duration']"
   ]
  },
  {
   "cell_type": "markdown",
   "id": "1b371a7b-c787-4e53-8ff3-5c2b3bf53288",
   "metadata": {},
   "source": [
    "This would return the value in the 'duration' column of the row with label 2."
   ]
  },
  {
   "cell_type": "markdown",
   "id": "fa5522d7-74ca-4336-ad3f-fa557b770f1e",
   "metadata": {},
   "source": [
    "On the other hand, iloc is a position-based indexer that allows you to select data based on the integer positions of the rows and columns. You can use iloc to subset a DataFrame by specifying the row and column positions explicitly.\n",
    "\n",
    "For Example - "
   ]
  },
  {
   "cell_type": "code",
   "execution_count": 5,
   "id": "650f3083-f37b-410e-884a-ad14ac11087a",
   "metadata": {},
   "outputs": [
    {
     "data": {
      "text/plain": [
       "6"
      ]
     },
     "execution_count": 5,
     "metadata": {},
     "output_type": "execute_result"
    }
   ],
   "source": [
    "df.iloc[2,1]"
   ]
  },
  {
   "cell_type": "markdown",
   "id": "76540d0c-5bda-44d8-b2a5-1bd8207a2c44",
   "metadata": {},
   "source": [
    "This would return the value in the second column (index 1) of the third row (index 2).\n",
    "\n",
    "\n",
    "So the main difference between loc and iloc is that loc uses labels to access data while iloc uses integer positions."
   ]
  },
  {
   "cell_type": "markdown",
   "id": "bc3a35ae-9c55-49fa-9f9c-1275325dc1d8",
   "metadata": {},
   "source": [
    "Q3. Reindex the given dataframe using a variable, reindex = [3,0,1,2] and store it in the variable, new_df then find the output for both new_df.loc[2] and new_df.iloc[2]."
   ]
  },
  {
   "cell_type": "code",
   "execution_count": 6,
   "id": "74bed5d7-aad2-4efc-a9ef-35dad89cbc51",
   "metadata": {},
   "outputs": [],
   "source": [
    "import pandas as pd\n",
    "course_name = ['Data Science', 'Machine Learning', 'Big Data', 'Data Engineer']\n",
    "duration = [2,3,6,4]\n",
    "df = pd.DataFrame(data = {'course_name' : course_name, 'duration' : duration})"
   ]
  },
  {
   "cell_type": "code",
   "execution_count": 7,
   "id": "c534ac96-d013-4f69-9646-c0368d8bb52c",
   "metadata": {},
   "outputs": [],
   "source": [
    "reindex = [3,0,1,2]"
   ]
  },
  {
   "cell_type": "code",
   "execution_count": 8,
   "id": "1bbf8a69-8f4b-4f45-b273-aa86f4695bc5",
   "metadata": {},
   "outputs": [],
   "source": [
    "new_df = df.reindex(reindex)"
   ]
  },
  {
   "cell_type": "code",
   "execution_count": 9,
   "id": "12ddae7b-4ae0-4cc4-94d1-a4774960f249",
   "metadata": {},
   "outputs": [
    {
     "data": {
      "text/html": [
       "<div>\n",
       "<style scoped>\n",
       "    .dataframe tbody tr th:only-of-type {\n",
       "        vertical-align: middle;\n",
       "    }\n",
       "\n",
       "    .dataframe tbody tr th {\n",
       "        vertical-align: top;\n",
       "    }\n",
       "\n",
       "    .dataframe thead th {\n",
       "        text-align: right;\n",
       "    }\n",
       "</style>\n",
       "<table border=\"1\" class=\"dataframe\">\n",
       "  <thead>\n",
       "    <tr style=\"text-align: right;\">\n",
       "      <th></th>\n",
       "      <th>course_name</th>\n",
       "      <th>duration</th>\n",
       "    </tr>\n",
       "  </thead>\n",
       "  <tbody>\n",
       "    <tr>\n",
       "      <th>3</th>\n",
       "      <td>Data Engineer</td>\n",
       "      <td>4</td>\n",
       "    </tr>\n",
       "    <tr>\n",
       "      <th>0</th>\n",
       "      <td>Data Science</td>\n",
       "      <td>2</td>\n",
       "    </tr>\n",
       "    <tr>\n",
       "      <th>1</th>\n",
       "      <td>Machine Learning</td>\n",
       "      <td>3</td>\n",
       "    </tr>\n",
       "    <tr>\n",
       "      <th>2</th>\n",
       "      <td>Big Data</td>\n",
       "      <td>6</td>\n",
       "    </tr>\n",
       "  </tbody>\n",
       "</table>\n",
       "</div>"
      ],
      "text/plain": [
       "        course_name  duration\n",
       "3     Data Engineer         4\n",
       "0      Data Science         2\n",
       "1  Machine Learning         3\n",
       "2          Big Data         6"
      ]
     },
     "execution_count": 9,
     "metadata": {},
     "output_type": "execute_result"
    }
   ],
   "source": [
    "new_df"
   ]
  },
  {
   "cell_type": "code",
   "execution_count": 10,
   "id": "9f7bdc13-599c-4b14-91f7-34eb4dd64f95",
   "metadata": {},
   "outputs": [
    {
     "data": {
      "text/plain": [
       "course_name    Big Data\n",
       "duration              6\n",
       "Name: 2, dtype: object"
      ]
     },
     "execution_count": 10,
     "metadata": {},
     "output_type": "execute_result"
    }
   ],
   "source": [
    "new_df.loc[2]"
   ]
  },
  {
   "cell_type": "code",
   "execution_count": 11,
   "id": "9b755725-b8c0-4d66-9aed-025079f1503a",
   "metadata": {},
   "outputs": [
    {
     "data": {
      "text/plain": [
       "course_name    Machine Learning\n",
       "duration                      3\n",
       "Name: 1, dtype: object"
      ]
     },
     "execution_count": 11,
     "metadata": {},
     "output_type": "execute_result"
    }
   ],
   "source": [
    "new_df.iloc[2]"
   ]
  },
  {
   "cell_type": "markdown",
   "id": "a135fbbb-7344-43e0-a3b8-f7ed2c1a7603",
   "metadata": {},
   "source": [
    "new_df.loc[2] returns the row with label 2 (which was originally the row with label 1), so the output will be: Big Data. However, new_df.iloc[2] returns the third row (index 2), which was originally the second row in the original DataFrame, so the output will be: Machine Learning"
   ]
  },
  {
   "cell_type": "code",
   "execution_count": 12,
   "id": "bef5bd62-5c09-4a9a-8991-d0bf995a32a9",
   "metadata": {},
   "outputs": [],
   "source": [
    "import pandas as pd\n",
    "import numpy as np\n",
    "columns = ['column_1', 'column_2', 'column_3', 'column_4', 'column_5', 'column_6']\n",
    "indices = [1,2,3,4,5,6]\n",
    "#Creating a dataframe:\n",
    "df1 = pd.DataFrame(np.random.rand(6,6), columns = columns, index = indices)"
   ]
  },
  {
   "cell_type": "code",
   "execution_count": 13,
   "id": "d850578e-82ff-4608-8fad-176c1bf92451",
   "metadata": {},
   "outputs": [
    {
     "data": {
      "text/html": [
       "<div>\n",
       "<style scoped>\n",
       "    .dataframe tbody tr th:only-of-type {\n",
       "        vertical-align: middle;\n",
       "    }\n",
       "\n",
       "    .dataframe tbody tr th {\n",
       "        vertical-align: top;\n",
       "    }\n",
       "\n",
       "    .dataframe thead th {\n",
       "        text-align: right;\n",
       "    }\n",
       "</style>\n",
       "<table border=\"1\" class=\"dataframe\">\n",
       "  <thead>\n",
       "    <tr style=\"text-align: right;\">\n",
       "      <th></th>\n",
       "      <th>column_1</th>\n",
       "      <th>column_2</th>\n",
       "      <th>column_3</th>\n",
       "      <th>column_4</th>\n",
       "      <th>column_5</th>\n",
       "      <th>column_6</th>\n",
       "    </tr>\n",
       "  </thead>\n",
       "  <tbody>\n",
       "    <tr>\n",
       "      <th>1</th>\n",
       "      <td>0.793420</td>\n",
       "      <td>0.493825</td>\n",
       "      <td>0.183804</td>\n",
       "      <td>0.033128</td>\n",
       "      <td>0.771464</td>\n",
       "      <td>0.448680</td>\n",
       "    </tr>\n",
       "    <tr>\n",
       "      <th>2</th>\n",
       "      <td>0.539706</td>\n",
       "      <td>0.396369</td>\n",
       "      <td>0.137193</td>\n",
       "      <td>0.971362</td>\n",
       "      <td>0.921079</td>\n",
       "      <td>0.003278</td>\n",
       "    </tr>\n",
       "    <tr>\n",
       "      <th>3</th>\n",
       "      <td>0.155771</td>\n",
       "      <td>0.157601</td>\n",
       "      <td>0.744519</td>\n",
       "      <td>0.744462</td>\n",
       "      <td>0.494734</td>\n",
       "      <td>0.697396</td>\n",
       "    </tr>\n",
       "    <tr>\n",
       "      <th>4</th>\n",
       "      <td>0.583221</td>\n",
       "      <td>0.626654</td>\n",
       "      <td>0.110768</td>\n",
       "      <td>0.913199</td>\n",
       "      <td>0.446600</td>\n",
       "      <td>0.852831</td>\n",
       "    </tr>\n",
       "    <tr>\n",
       "      <th>5</th>\n",
       "      <td>0.624897</td>\n",
       "      <td>0.214024</td>\n",
       "      <td>0.241833</td>\n",
       "      <td>0.594224</td>\n",
       "      <td>0.082756</td>\n",
       "      <td>0.456524</td>\n",
       "    </tr>\n",
       "    <tr>\n",
       "      <th>6</th>\n",
       "      <td>0.114543</td>\n",
       "      <td>0.693673</td>\n",
       "      <td>0.142961</td>\n",
       "      <td>0.585129</td>\n",
       "      <td>0.280631</td>\n",
       "      <td>0.330333</td>\n",
       "    </tr>\n",
       "  </tbody>\n",
       "</table>\n",
       "</div>"
      ],
      "text/plain": [
       "   column_1  column_2  column_3  column_4  column_5  column_6\n",
       "1  0.793420  0.493825  0.183804  0.033128  0.771464  0.448680\n",
       "2  0.539706  0.396369  0.137193  0.971362  0.921079  0.003278\n",
       "3  0.155771  0.157601  0.744519  0.744462  0.494734  0.697396\n",
       "4  0.583221  0.626654  0.110768  0.913199  0.446600  0.852831\n",
       "5  0.624897  0.214024  0.241833  0.594224  0.082756  0.456524\n",
       "6  0.114543  0.693673  0.142961  0.585129  0.280631  0.330333"
      ]
     },
     "execution_count": 13,
     "metadata": {},
     "output_type": "execute_result"
    }
   ],
   "source": [
    "df1"
   ]
  },
  {
   "cell_type": "markdown",
   "id": "7ce10f6d-66f1-4f0e-95c2-076f913e3438",
   "metadata": {},
   "source": [
    "Q4. Write a code to find the following statistical measurements for the above dataframe df1:\n",
    "\n",
    "(i) mean of each and every column present in the dataframe.\n",
    "\n",
    "(ii) standard deviation of column, ‘column_2’"
   ]
  },
  {
   "cell_type": "code",
   "execution_count": 14,
   "id": "35f525c1-563b-443a-b0c7-68f324e0ca40",
   "metadata": {},
   "outputs": [],
   "source": [
    "##(i) mean of each and every column present in the dataframe.\n",
    "\n",
    "mean = df1.mean()"
   ]
  },
  {
   "cell_type": "code",
   "execution_count": 15,
   "id": "9c7c8eef-25e3-486b-ab01-6b60b8cc9d1f",
   "metadata": {},
   "outputs": [
    {
     "data": {
      "text/plain": [
       "column_1    0.468593\n",
       "column_2    0.430358\n",
       "column_3    0.260180\n",
       "column_4    0.640251\n",
       "column_5    0.499544\n",
       "column_6    0.464840\n",
       "dtype: float64"
      ]
     },
     "execution_count": 15,
     "metadata": {},
     "output_type": "execute_result"
    }
   ],
   "source": [
    "mean"
   ]
  },
  {
   "cell_type": "code",
   "execution_count": 16,
   "id": "4e395f04-41af-4046-aee5-7a42efd587ff",
   "metadata": {},
   "outputs": [],
   "source": [
    "###(ii) standard deviation of column, ‘column_2’\n",
    "\n",
    "std = df1['column_2'].std()"
   ]
  },
  {
   "cell_type": "code",
   "execution_count": 17,
   "id": "3a4b7505-005a-46ce-b00d-fc9642045c91",
   "metadata": {},
   "outputs": [
    {
     "data": {
      "text/plain": [
       "0.21644714732423204"
      ]
     },
     "execution_count": 17,
     "metadata": {},
     "output_type": "execute_result"
    }
   ],
   "source": [
    "std"
   ]
  },
  {
   "cell_type": "markdown",
   "id": "31c4f65e-def1-4c7a-9589-4f44665ddb55",
   "metadata": {},
   "source": [
    "Q5. Replace the data present in the second row of column, ‘column_2’ by a string variable then find the mean of column, column_2.\n",
    "\n",
    "If you are getting errors in executing it then explain why.\n",
    "\n",
    "[Hint: To replace the data use df1.loc[] and equate this to string data of your choice.]"
   ]
  },
  {
   "cell_type": "code",
   "execution_count": 18,
   "id": "8d5623ed-34fb-4a83-a8b8-ab23efc406af",
   "metadata": {},
   "outputs": [],
   "source": [
    "import pandas as pd\n",
    "import numpy as np\n",
    "columns = ['column_1', 'column_2', 'column_3', 'column_4', 'column_5', 'column_6']\n",
    "indices = [1,2,3,4,5,6]\n",
    "#Creating a dataframe:\n",
    "df1 = pd.DataFrame(np.random.rand(6,6), columns = columns, index = indices)"
   ]
  },
  {
   "cell_type": "code",
   "execution_count": 19,
   "id": "0c0bd27a-78b0-4e55-b7b9-6d19f13f55f5",
   "metadata": {},
   "outputs": [],
   "source": [
    "df1.loc[2, 'column_2'] = 'new_data'"
   ]
  },
  {
   "cell_type": "code",
   "execution_count": null,
   "id": "687d2cc9-e307-4b25-a2fb-462c2faad4a4",
   "metadata": {},
   "outputs": [],
   "source": [
    "mean = df1['column_2'].mean()\n",
    "print(\"Mean of column_2:\", mean)"
   ]
  },
  {
   "cell_type": "markdown",
   "id": "56b36992-b3d8-4028-b2b5-e16016a18f0d",
   "metadata": {},
   "source": [
    "Note : Replacing a numeric value with a string value in a numeric column will raise a TypeError in Pandas. Therefore, if we try to calculate the mean of the 'column_2' column after replacing a value with a string, it will raise a TypeError because the column now contains both numeric and non-numeric data types.\n",
    "\n",
    "However, if we replace a numeric value with another numeric value (instead of a string), then we can calculate the mean of the column without any errors."
   ]
  },
  {
   "cell_type": "markdown",
   "id": "2855cc66-5008-41ec-a70e-ba6a04e0d614",
   "metadata": {},
   "source": [
    "Q6. What do you understand about the windows function in pandas and list the types of windows functions?"
   ]
  },
  {
   "cell_type": "markdown",
   "id": "e8a6a3bd-5c80-4a6b-a955-b806902f09f1",
   "metadata": {},
   "source": [
    "Answer 6. In Pandas, the windows functions (also known as rolling functions) allow to perform a calculation on a rolling window of data. A rolling window consists of a fixed number of consecutive data points in a series or a DataFrame. These functions can be used to perform calculations such as rolling mean, rolling sum, rolling standard deviation, etc.\n",
    "\n",
    "The types of window functions available in Pandas include:\n",
    "\n",
    "1. Rolling: This function is used to create a rolling window object that can be used to perform a calculation on the data within the window.\n",
    "\n",
    "2. Expanding: This function is used to create an expanding window object that includes all the data from the start of the series up to the current point.\n",
    "\n",
    "3. Exponentially weighted: This function is used to create an exponentially weighted window object where the weights decrease exponentially as you move away from the current point.\n",
    "\n",
    "4. Rolling and Expanding with a Time Window: These functions are used to create rolling and expanding window objects that operate on time-based data.\n",
    "\n",
    "5. Groupby Rolling and Expanding: These functions are used to perform rolling and expanding calculations on groups of data rather than on the entire dataset.\n",
    "\n",
    "Overall, window functions are a powerful tool in Pandas for performing calculations on rolling and expanding windows of data, and can be particularly useful for analyzing time series data or data that exhibits trends or patterns over time."
   ]
  },
  {
   "cell_type": "markdown",
   "id": "5cdffde8-9be2-423b-865d-4954e82ae88c",
   "metadata": {},
   "source": [
    "Q7. Write a code to print only the current month and year at the time of answering this question.\n",
    "\n",
    "[Hint: Use pandas.datetime function]"
   ]
  },
  {
   "cell_type": "code",
   "execution_count": 21,
   "id": "59042968-90fb-4853-8824-f76918d2eb8b",
   "metadata": {},
   "outputs": [
    {
     "name": "stdout",
     "output_type": "stream",
     "text": [
      "Current month and year: 3 2023\n"
     ]
    },
    {
     "name": "stderr",
     "output_type": "stream",
     "text": [
      "/tmp/ipykernel_2279/75270901.py:4: FutureWarning: The pandas.datetime class is deprecated and will be removed from pandas in a future version. Import from datetime module instead.\n",
      "  now = pd.datetime.now()\n"
     ]
    }
   ],
   "source": [
    "import pandas as pd\n",
    "\n",
    "# Get the current date and time\n",
    "now = pd.datetime.now()\n",
    "\n",
    "# Extract the month and year from the current date\n",
    "current_month = now.month\n",
    "current_year = now.year\n",
    "\n",
    "# Print the current month and year\n",
    "print(\"Current month and year:\", current_month, current_year)\n"
   ]
  },
  {
   "cell_type": "markdown",
   "id": "71365808-128c-4fc2-8fd9-b8e584093ec2",
   "metadata": {},
   "source": [
    "Q8. Write a Python program that takes in two dates as input (in the format YYYY-MM-DD) and calculates the difference between them in days, hours, and minutes using Pandas time delta. The program should prompt the user to enter the dates and display the result."
   ]
  },
  {
   "cell_type": "code",
   "execution_count": 22,
   "id": "fdaf0c61-fa99-4092-a819-77e4c9c867ce",
   "metadata": {},
   "outputs": [
    {
     "name": "stdin",
     "output_type": "stream",
     "text": [
      "Enter the first date (YYYY-MM-DD):  1992-01-01\n",
      "Enter the second date (YYYY-MM-DD):  2023-01-01\n"
     ]
    },
    {
     "name": "stdout",
     "output_type": "stream",
     "text": [
      "Time difference between 1992-01-01 and 2023-01-01 :\n",
      "11323 days 0 hours 0 minutes\n"
     ]
    }
   ],
   "source": [
    "import pandas as pd\n",
    "\n",
    "# Get the two dates from the user\n",
    "date1 = input(\"Enter the first date (YYYY-MM-DD): \")\n",
    "date2 = input(\"Enter the second date (YYYY-MM-DD): \")\n",
    "\n",
    "# Convert the dates to Pandas datetime objects\n",
    "date1 = pd.to_datetime(date1)\n",
    "date2 = pd.to_datetime(date2)\n",
    "\n",
    "# Calculate the time difference between the two dates\n",
    "time_diff = date2 - date1\n",
    "\n",
    "# Extract the number of days, hours, and minutes from the time difference\n",
    "days_diff = time_diff.days\n",
    "hours_diff = time_diff.seconds // 3600\n",
    "mins_diff = (time_diff.seconds // 60) % 60\n",
    "\n",
    "# Display the result\n",
    "print(\"Time difference between\", date1.date(), \"and\", date2.date(), \":\")\n",
    "print(days_diff, \"days\", hours_diff, \"hours\", mins_diff, \"minutes\")\n"
   ]
  },
  {
   "cell_type": "markdown",
   "id": "d446bb2c-17e1-4277-9150-a1bb763f3002",
   "metadata": {},
   "source": [
    "Q9. Write a Python program that reads a CSV file containing categorical data and converts a specified column to a categorical data type. The program should prompt the user to enter the file path, column name, and category order, and then display the sorted data."
   ]
  },
  {
   "cell_type": "code",
   "execution_count": 23,
   "id": "506120c7-e516-455d-911b-a376b0c0de53",
   "metadata": {},
   "outputs": [
    {
     "name": "stdin",
     "output_type": "stream",
     "text": [
      "Enter the file path:  mydata.csv\n",
      "Enter the column name to convert to categorical:  color\n",
      "Enter the category order (comma-separated):  red,green,blue\n"
     ]
    },
    {
     "name": "stdout",
     "output_type": "stream",
     "text": [
      "   id  color\n",
      "0   1    red\n",
      "4   5    red\n",
      "6   7    red\n",
      "1   2  green\n",
      "3   4  green\n",
      "7   8  green\n",
      "2   3   blue\n",
      "5   6   blue\n",
      "8   9   blue\n"
     ]
    }
   ],
   "source": [
    "import pandas as pd\n",
    "\n",
    "# Get the file path and column name from the user\n",
    "file_path = input(\"Enter the file path: \")\n",
    "column_name = input(\"Enter the column name to convert to categorical: \")\n",
    "\n",
    "# Load the CSV file into a DataFrame\n",
    "df = pd.read_csv(file_path)\n",
    "\n",
    "# Get the category order from the user\n",
    "category_order = input(\"Enter the category order (comma-separated): \").split(\",\")\n",
    "\n",
    "# Convert the column to categorical data type with specified order\n",
    "cat_dtype = pd.api.types.CategoricalDtype(categories=category_order, ordered=True)\n",
    "df[column_name] = df[column_name].astype(cat_dtype)\n",
    "\n",
    "# Sort the data based on the specified category order\n",
    "df = df.sort_values(by=column_name)\n",
    "\n",
    "# Display the sorted data\n",
    "print(df)"
   ]
  },
  {
   "cell_type": "markdown",
   "id": "7c2a1a02-f1b9-4007-b20b-cd3a9ea93a6a",
   "metadata": {},
   "source": [
    "Q10. Write a Python program that reads a CSV file containing sales data for different products and visualizes the data using a stacked bar chart to show the sales of each product category over time. The program should prompt the user to enter the file path and display the chart."
   ]
  },
  {
   "cell_type": "code",
   "execution_count": 24,
   "id": "343720da-7229-47c1-8e3a-a4da32cc9e2f",
   "metadata": {},
   "outputs": [
    {
     "name": "stdin",
     "output_type": "stream",
     "text": [
      "Enter the file path:  sales_data.csv\n"
     ]
    },
    {
     "data": {
      "image/png": "[encoded data removed]",
      "text/plain": [
       "<Figure size 640x480 with 1 Axes>"
      ]
     },
     "metadata": {},
     "output_type": "display_data"
    }
   ],
   "source": [
    "import pandas as pd\n",
    "import matplotlib.pyplot as plt\n",
    "\n",
    "# Prompt the user to enter the file path\n",
    "file_path = input(\"Enter the file path: \")\n",
    "\n",
    "# Read the CSV file into a Pandas dataframe\n",
    "sales_data = pd.read_csv(file_path)\n",
    "\n",
    "# Convert the date column to a Pandas datetime object\n",
    "sales_data['date'] = pd.to_datetime(sales_data['date'])\n",
    "\n",
    "# Group the data by product category and date, and calculate the total sales\n",
    "grouped_data = sales_data.groupby(['category', 'date'])['sales'].sum().unstack()\n",
    "\n",
    "# Create a stacked bar chart of the sales data\n",
    "grouped_data.plot(kind='bar', stacked=True)\n",
    "\n",
    "# Set the title and axis labels\n",
    "plt.title('Sales by Category over Time')\n",
    "plt.xlabel('Date')\n",
    "plt.ylabel('Sales')\n",
    "\n",
    "# Display the chart\n",
    "plt.show()"
   ]
  },
  {
   "cell_type": "markdown",
   "id": "9b763bf6-30d6-4689-9157-e2a094f5f339",
   "metadata": {},
   "source": [
    "Q11. You are given a CSV file containing student data that includes the student ID and their test score. \n",
    "\n",
    "Write a Python program that reads the CSV file, calculates the mean, median, and mode of the test scores, and displays the results in a table.\n",
    "\n",
    "The program should do the following: \n",
    "1. Prompt the user to enter the file path of the CSV file containing the student data.\n",
    "\n",
    "2. Read the CSV file into a Pandas DataFrame.\n",
    "\n",
    "3. Calculate the mean, median, and mode of the test scores using Pandas tools.\n",
    "\n",
    "4. Display the mean, median, and mode in a table.\n",
    "\n",
    "\n",
    "Assume the CSV file contains the following columns.\n",
    "1. Student ID: The ID of the student.\n",
    "2. Test Score: The score of the student's test.\n",
    "\n",
    "Example usage of the program:\n",
    "Enter the file path of the CSV file containing the student data: student_data.csv\n",
    "\n",
    "+-----------+--------+\n",
    "\n",
    "| Statistic | Value |\n",
    "\n",
    "+-----------+--------+\n",
    "\n",
    "| Mean | 79.6 |\n",
    "\n",
    "| Median | 82 |\n",
    "\n",
    "| Mode | 85, 90 |\n",
    "\n",
    "+-----------+--------+\n",
    "\n",
    "Assume that the CSV file student_data.csv contains the following data:\n",
    "Student ID,  Test Score\n",
    "1,            85\n",
    "\n",
    "2,            90\n",
    "\n",
    "3,            80\n",
    "\n",
    "4,            75\n",
    "\n",
    "5,            85\n",
    "\n",
    "6,            82\n",
    "\n",
    "7,            78\n",
    "\n",
    "8,            85\n",
    "\n",
    "9,            90\n",
    "\n",
    "10,           85\n",
    "\n",
    "The program should calculate the mean, median, and mode of the test scores and display the results in a table."
   ]
  },
  {
   "cell_type": "code",
   "execution_count": 25,
   "id": "4c80bbb6-1bd9-427a-8bda-ff0e3d0761b8",
   "metadata": {},
   "outputs": [
    {
     "name": "stdin",
     "output_type": "stream",
     "text": [
      "Enter the file path of the CSV file containing the student data:  student_data.csv\n"
     ]
    },
    {
     "name": "stdout",
     "output_type": "stream",
     "text": [
      "+-----------+--------+\n",
      "| Statistic | Value  |\n",
      "+-----------+--------+\n",
      "| Mean      | 83.5 |\n",
      "| Median    | 85     |\n",
      "| Mode      | 85 |\n",
      "+-----------+--------+\n"
     ]
    }
   ],
   "source": [
    "import pandas as pd\n",
    "\n",
    "# Prompt user to enter the file path of the CSV file containing the student data\n",
    "file_path = input(\"Enter the file path of the CSV file containing the student data: \")\n",
    "\n",
    "# Read the CSV file into a Pandas DataFrame\n",
    "df = pd.read_csv(file_path)\n",
    "\n",
    "# Calculate the mean, median, and mode of the test scores\n",
    "mean_score = df['Test Score'].mean()\n",
    "median_score = df['Test Score'].median()\n",
    "mode_score = df['Test Score'].mode()\n",
    "\n",
    "# Display the mean, median, and mode in a table\n",
    "print(\"+-----------+--------+\")\n",
    "print(\"| Statistic | Value  |\")\n",
    "print(\"+-----------+--------+\")\n",
    "print(\"| Mean      | {:.1f} |\".format(mean_score))\n",
    "print(\"| Median    | {}     |\".format(int(median_score)))\n",
    "print(\"| Mode      | {} |\".format(\", \".join(str(score) for score in mode_score)))\n",
    "print(\"+-----------+--------+\")\n"
   ]
  },
  {
   "cell_type": "code",
   "execution_count": null,
   "id": "3131e022-8962-4387-b7f7-749086933d8a",
   "metadata": {},
   "outputs": [],
   "source": []
  }
 ],
 "metadata": {
  "kernelspec": {
   "display_name": "Python 3 (ipykernel)",
   "language": "python",
   "name": "python3"
  },
  "language_info": {
   "codemirror_mode": {
    "name": "ipython",
    "version": 3
   },
   "file_extension": ".py",
   "mimetype": "text/x-python",
   "name": "python",
   "nbconvert_exporter": "python",
   "pygments_lexer": "ipython3",
   "version": "3.10.8"
  }
 },
 "nbformat": 4,
 "nbformat_minor": 5
}
